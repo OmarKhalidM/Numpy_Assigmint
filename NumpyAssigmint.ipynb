{
 "cells": [
  {
   "cell_type": "markdown",
   "id": "ed5c413e-0734-492b-a721-0920d653a81f",
   "metadata": {},
   "source": [
    "# Numpy Assigmint"
   ]
  },
  {
   "cell_type": "code",
   "execution_count": 1,
   "id": "f062a19c-c16b-4bb6-b996-748021c319b9",
   "metadata": {},
   "outputs": [],
   "source": [
    "import numpy as np"
   ]
  },
  {
   "cell_type": "markdown",
   "id": "8fa88336-375b-4b85-b2ab-534938641768",
   "metadata": {},
   "source": [
    "#### 1. Write a NumPy program to test whether none of the elements of a given array is zero.\n"
   ]
  },
  {
   "cell_type": "code",
   "execution_count": 53,
   "id": "07ebc008-cf08-44df-a97c-44892629ca6d",
   "metadata": {},
   "outputs": [
    {
     "name": "stdout",
     "output_type": "stream",
     "text": [
      "[1 2 3 5 6 7]\n",
      "True\n"
     ]
    }
   ],
   "source": [
    "a=[1,2,3,5,6,7]\n",
    "print(np.array(a))\n",
    "print(np.all(a)) # test if ther is not zero in the array"
   ]
  },
  {
   "cell_type": "code",
   "execution_count": 54,
   "id": "38b55089-ccc2-43cb-b13a-8b5c68b72af6",
   "metadata": {},
   "outputs": [
    {
     "data": {
      "text/plain": [
       "False"
      ]
     },
     "execution_count": 54,
     "metadata": {},
     "output_type": "execute_result"
    }
   ],
   "source": [
    "def if_zero(a):\n",
    "    for i in range(len(a)):\n",
    "        if a[i]==0:     #if ther is zero return True\n",
    "            return True\n",
    "        # else :\n",
    "        #     pass\n",
    "    return False\n",
    "\n",
    "if_zero(a)"
   ]
  },
  {
   "cell_type": "markdown",
   "id": "5a5ca152-ece5-441e-af3a-06763eb07a45",
   "metadata": {},
   "source": [
    "#### 2. Write a NumPy program to test whether any of the elements of a given array is non-zero.\n"
   ]
  },
  {
   "cell_type": "code",
   "execution_count": 60,
   "id": "0c6de09d-2f08-48f5-9d16-185fd6d19b6a",
   "metadata": {},
   "outputs": [
    {
     "name": "stdout",
     "output_type": "stream",
     "text": [
      "False\n"
     ]
    }
   ],
   "source": [
    "a=np.array([0,0,0,0,0])\n",
    "print(np.any(a)) # test if any numer in array is not zero"
   ]
  },
  {
   "cell_type": "code",
   "execution_count": 64,
   "id": "3be4ace1-734e-49ff-aa38-f2b0f5f806aa",
   "metadata": {},
   "outputs": [
    {
     "data": {
      "text/plain": [
       "False"
      ]
     },
     "execution_count": 64,
     "metadata": {},
     "output_type": "execute_result"
    }
   ],
   "source": [
    "def if_numper(a):\n",
    "    for i in range(len(a)):\n",
    "        if a[i]==0:\n",
    "            pass\n",
    "        else: \n",
    "            return True\n",
    "    return False\n",
    "if_numper(a)"
   ]
  },
  {
   "cell_type": "markdown",
   "id": "aa862cd6-34a3-4982-9034-d8929e204134",
   "metadata": {},
   "source": [
    "#### 3. Write a NumPy program to create an element-wise comparison (equal, equal within a tolerance) of two given \n"
   ]
  },
  {
   "cell_type": "code",
   "execution_count": 68,
   "id": "4a426e0e-b25a-45ab-a3f3-6fa4162382e6",
   "metadata": {},
   "outputs": [
    {
     "data": {
      "text/plain": [
       "array([ True,  True,  True,  True,  True,  True,  True, False, False])"
      ]
     },
     "execution_count": 68,
     "metadata": {},
     "output_type": "execute_result"
    }
   ],
   "source": [
    "x=np.array([1,2,3,4,5,6,7,9,0])\n",
    "y=np.array([1,2,3,4,5,6,7,8,9])\n",
    "np.equal(x, y) # must be the same shabe"
   ]
  },
  {
   "cell_type": "code",
   "execution_count": 74,
   "id": "3786e70a-6579-471f-a637-ebac307baf1e",
   "metadata": {},
   "outputs": [
    {
     "name": "stdout",
     "output_type": "stream",
     "text": [
      "True,True,True,True,True,True,True,False,False,"
     ]
    }
   ],
   "source": [
    "def if_EW (a,a1):\n",
    "    for i in range(len(a)):\n",
    "        if a[i]==a1[i]:\n",
    "            print (True,end=',')\n",
    "        else :\n",
    "            print (False,end=',')\n",
    "if_EW(x,y)"
   ]
  },
  {
   "cell_type": "markdown",
   "id": "4c0fa64d-b1fd-47ea-9412-d89689c78c09",
   "metadata": {},
   "source": [
    "#### 4. Write a NumPy program to create an array of 10 zeros,10 ones, 10 fives.\n"
   ]
  },
  {
   "cell_type": "code",
   "execution_count": 89,
   "id": "8cd0d0ea-364e-4086-b043-8e3516ca4863",
   "metadata": {},
   "outputs": [
    {
     "data": {
      "text/plain": [
       "(array([0, 0, 0, 0, 0, 0, 0, 0, 0, 0]),\n",
       " array([1, 1, 1, 1, 1, 1, 1, 1, 1, 1]),\n",
       " array([5, 5, 5, 5, 5, 5, 5, 5, 5, 5]))"
      ]
     },
     "execution_count": 89,
     "metadata": {},
     "output_type": "execute_result"
    }
   ],
   "source": [
    "a=np.zeros(10,dtype='int'),np.ones(10,dtype='int'),np.ones(10,dtype='int')*5\n",
    "a"
   ]
  },
  {
   "cell_type": "code",
   "execution_count": null,
   "id": "1d374f67-b55b-450c-8f3f-110c8fc3f69e",
   "metadata": {},
   "outputs": [],
   "source": []
  },
  {
   "cell_type": "markdown",
   "id": "8e663892-c51c-4e49-b08e-39d3ab47a5a8",
   "metadata": {},
   "source": [
    "#### 5. Write a NumPy program to create an array of the integers from 30 to70.\n"
   ]
  },
  {
   "cell_type": "code",
   "execution_count": 91,
   "id": "e64aed02-b2f4-47f9-b41d-897750949a80",
   "metadata": {},
   "outputs": [
    {
     "data": {
      "text/plain": [
       "array([30, 31, 32, 33, 34, 35, 36, 37, 38, 39, 40, 41, 42, 43, 44, 45, 46,\n",
       "       47, 48, 49, 50, 51, 52, 53, 54, 55, 56, 57, 58, 59, 60, 61, 62, 63,\n",
       "       64, 65, 66, 67, 68, 69, 70])"
      ]
     },
     "execution_count": 91,
     "metadata": {},
     "output_type": "execute_result"
    }
   ],
   "source": [
    "a=np.arange(30,71)\n",
    "a"
   ]
  },
  {
   "cell_type": "markdown",
   "id": "5adba10e-6104-44dc-b83b-2fb2362215c7",
   "metadata": {},
   "source": [
    "#### 6. Write a NumPy program to create a 3x3 identity matrix "
   ]
  },
  {
   "cell_type": "code",
   "execution_count": 94,
   "id": "580e3715-27ea-47d5-b85d-8c86d4693adb",
   "metadata": {},
   "outputs": [
    {
     "data": {
      "text/plain": [
       "array([[1, 0, 0],\n",
       "       [0, 1, 0],\n",
       "       [0, 0, 1]])"
      ]
     },
     "execution_count": 94,
     "metadata": {},
     "output_type": "execute_result"
    }
   ],
   "source": [
    "a=np.eye(3, dtype='int')\n",
    "a"
   ]
  },
  {
   "cell_type": "markdown",
   "id": "9c1a4faf-cca0-41de-9e59-71b8a2af5216",
   "metadata": {},
   "source": [
    "#### 7. Write a NumPy program to generate a random number between 0 and 1 "
   ]
  },
  {
   "cell_type": "code",
   "execution_count": 191,
   "id": "76541bdf-53c4-44eb-91c2-3c4218e59451",
   "metadata": {},
   "outputs": [
    {
     "name": "stdout",
     "output_type": "stream",
     "text": [
      "-0.4974871475805864\n"
     ]
    },
    {
     "data": {
      "text/plain": [
       "array([0.30863129, 0.93248075, 0.1019096 , 0.88992829, 0.87677945,\n",
       "       0.74088217, 0.76238872, 0.08141725])"
      ]
     },
     "execution_count": 191,
     "metadata": {},
     "output_type": "execute_result"
    }
   ],
   "source": [
    "a=np.random.normal(0,1)\n",
    "b=np.random.rand()\n",
    "print(a)\n",
    "b"
   ]
  },
  {
   "cell_type": "markdown",
   "id": "f99b620b-09bd-465d-974c-802e22d0382d",
   "metadata": {},
   "source": [
    "#### 8. Write a NumPy program to generate an array of 15 random numbers from a standard normal distribution \n"
   ]
  },
  {
   "cell_type": "code",
   "execution_count": 175,
   "id": "f9abd972-947d-466d-99ee-818f9fc0c062",
   "metadata": {},
   "outputs": [
    {
     "data": {
      "text/plain": [
       "array([[0.31736165, 0.43539406, 0.32265396, 0.27526385, 0.99487487,\n",
       "        0.81889343, 0.16237092, 0.78353315, 0.36074393, 0.45237458,\n",
       "        0.5271006 , 0.37015712, 0.17640624, 0.53019481, 0.08143174]])"
      ]
     },
     "execution_count": 175,
     "metadata": {},
     "output_type": "execute_result"
    }
   ],
   "source": [
    "a=np.random.rand(1,15)\n",
    "a"
   ]
  },
  {
   "cell_type": "markdown",
   "id": "2e8670d0-8e07-4916-9d72-b2bcbeaf696d",
   "metadata": {},
   "source": [
    "#### 9.Write a NumPy program to create a vector with values ranging from 15 to 55 and print all values except the first and last."
   ]
  },
  {
   "cell_type": "code",
   "execution_count": 118,
   "id": "eb1e7bc5-a80c-4896-96ef-58571281d53d",
   "metadata": {},
   "outputs": [
    {
     "data": {
      "text/plain": [
       "array([16, 17, 18, 19, 20, 21, 22, 23, 24, 25, 26, 27, 28, 29, 30, 31, 32,\n",
       "       33, 34, 35, 36, 37, 38, 39, 40, 41, 42, 43, 44, 45, 46, 47, 48, 49,\n",
       "       50, 51, 52, 53, 54])"
      ]
     },
     "execution_count": 118,
     "metadata": {},
     "output_type": "execute_result"
    }
   ],
   "source": [
    "a= np.arange(15,55)\n",
    "a[1:]"
   ]
  },
  {
   "cell_type": "markdown",
   "id": "1b57840b-1faa-4526-b34c-4b95ba32edee",
   "metadata": {},
   "source": [
    "#### 10. Write a NumPy program to create a vector of length 5 filled with arbitrary integers from 0 to 10 \n"
   ]
  },
  {
   "cell_type": "code",
   "execution_count": 176,
   "id": "119d126e-6c12-48a1-83b1-c1524c016005",
   "metadata": {},
   "outputs": [
    {
     "data": {
      "text/plain": [
       "array([7, 1, 6, 7, 2])"
      ]
     },
     "execution_count": 176,
     "metadata": {},
     "output_type": "execute_result"
    }
   ],
   "source": [
    "a= np.random.randint(0, 11, 5)\n",
    "a"
   ]
  },
  {
   "cell_type": "markdown",
   "id": "6d97fb85-eb52-4706-9493-42d748f549f2",
   "metadata": {
    "tags": []
   },
   "source": [
    "#### 11. Write a NumPy program to create a 10x10 matrix, in which the elements on the borders will be equal to 1, and inside 0."
   ]
  },
  {
   "cell_type": "code",
   "execution_count": 135,
   "id": "1e5bdfae-7821-4769-9e25-46662664f8d8",
   "metadata": {},
   "outputs": [
    {
     "data": {
      "text/plain": [
       "array([[1, 1, 1, 1, 1, 1, 1, 1, 1, 1],\n",
       "       [1, 0, 0, 0, 0, 0, 0, 0, 0, 1],\n",
       "       [1, 0, 0, 0, 0, 0, 0, 0, 0, 1],\n",
       "       [1, 0, 0, 0, 0, 0, 0, 0, 0, 1],\n",
       "       [1, 0, 0, 0, 0, 0, 0, 0, 0, 1],\n",
       "       [1, 0, 0, 0, 0, 0, 0, 0, 0, 1],\n",
       "       [1, 0, 0, 0, 0, 0, 0, 0, 0, 1],\n",
       "       [1, 0, 0, 0, 0, 0, 0, 0, 0, 1],\n",
       "       [1, 0, 0, 0, 0, 0, 0, 0, 0, 1],\n",
       "       [1, 1, 1, 1, 1, 1, 1, 1, 1, 1]])"
      ]
     },
     "execution_count": 135,
     "metadata": {},
     "output_type": "execute_result"
    }
   ],
   "source": [
    "a=np.ones([10,10],dtype='int')\n",
    "a[1:-1,1:-1]=0\n",
    "a"
   ]
  },
  {
   "cell_type": "markdown",
   "id": "a76f5b64-4564-4317-a86e-2374b089de55",
   "metadata": {},
   "source": [
    "#### 12. Write a NumPy program to create a 5x5 zero matrix with elements on the main diagonal equal to 1, 2, 3, 4,5."
   ]
  },
  {
   "cell_type": "code",
   "execution_count": 163,
   "id": "19175356-7572-4675-8987-6db643fbd1c8",
   "metadata": {},
   "outputs": [
    {
     "name": "stdout",
     "output_type": "stream",
     "text": [
      "[[1 0 0 0 0]\n",
      " [0 2 0 0 0]\n",
      " [0 0 3 0 0]\n",
      " [0 0 0 4 0]\n",
      " [0 0 0 0 5]]\n",
      "[[1 0 0 0 0]\n",
      " [0 2 0 0 0]\n",
      " [0 0 3 0 0]\n",
      " [0 0 0 4 0]\n",
      " [0 0 0 0 5]]\n"
     ]
    }
   ],
   "source": [
    "# with two defrint wayes\n",
    "a=np.eye(5,k=0,dtype='int')*[1,2,3,4,5]\n",
    "print(a)\n",
    "#-----------------------------------------------------------------\n",
    "x = np.diag([1,2,3,4,5]) \n",
    "print(x)"
   ]
  },
  {
   "cell_type": "markdown",
   "id": "a537585a-0c75-4879-b672-db1bfa6f7d24",
   "metadata": {},
   "source": [
    "#### 13. Write a NumPy program to create a 4x4 matrix in which 0 and 1 are staggered, with zeros on the main diagonal."
   ]
  },
  {
   "cell_type": "code",
   "execution_count": 166,
   "id": "f3d52cd3-76b9-4e0a-bc2f-05d8d2b50e30",
   "metadata": {},
   "outputs": [
    {
     "name": "stdout",
     "output_type": "stream",
     "text": [
      "[[0 1 0 1]\n",
      " [1 0 1 0]\n",
      " [0 1 0 1]\n",
      " [1 0 1 0]]\n"
     ]
    }
   ],
   "source": [
    "a= np.zeros([4,4],'int')\n",
    "a[::2,1::2]=1\n",
    "a[1::2,::2]=1\n",
    "print(a)"
   ]
  },
  {
   "cell_type": "markdown",
   "id": "7f21e69e-a369-4b47-acfb-c66b5375b140",
   "metadata": {},
   "source": [
    "#### 14. Write a NumPy program to save two given arrays into a single file in compressed format (.npz format) and load it."
   ]
  },
  {
   "cell_type": "code",
   "execution_count": 199,
   "id": "b521a924-446a-4fd6-aa01-43fd908e8a96",
   "metadata": {},
   "outputs": [
    {
     "name": "stdout",
     "output_type": "stream",
     "text": [
      "[0 1 2 3 4 5 6 7 8 9]\n",
      "[11 12 13 14 15 16 17 18 19]\n"
     ]
    }
   ],
   "source": [
    "import os\n",
    "x = np.arange(10)\n",
    "y = np.arange(11, 20)\n",
    "np.savez('array.npz', x=x, y=y)\n",
    "# Load arrays from the 'temp_arra.npz' \n",
    "with np.load('array.npz') as data:\n",
    "    x2 = data['x']\n",
    "    y2 = data['y']\n",
    "    print(x2)\n",
    "    print(y2)"
   ]
  },
  {
   "cell_type": "markdown",
   "id": "414b6979-fbb5-4834-b90c-70e8d7a00fa5",
   "metadata": {},
   "source": [
    "#### 15. Write a NumPy program to create a one dimensional array of forty pseudo-randomly generated values. Select "
   ]
  },
  {
   "cell_type": "code",
   "execution_count": 193,
   "id": "b22b2fd2-3690-47ee-b0e9-d192d683b62c",
   "metadata": {},
   "outputs": [
    {
     "name": "stdout",
     "output_type": "stream",
     "text": [
      "[0.77132064 0.02075195 0.63364823 0.74880388 0.49850701 0.22479665\n",
      " 0.19806286 0.76053071 0.16911084 0.08833981 0.68535982 0.95339335\n",
      " 0.00394827 0.51219226 0.81262096 0.61252607 0.72175532 0.29187607\n",
      " 0.91777412 0.71457578 0.54254437 0.14217005 0.37334076 0.67413362\n",
      " 0.44183317 0.43401399 0.61776698 0.51313824 0.65039718 0.60103895\n",
      " 0.8052232  0.52164715 0.90864888 0.31923609 0.09045935 0.30070006\n",
      " 0.11398436 0.82868133 0.04689632 0.62628715]\n"
     ]
    }
   ],
   "source": [
    "a=np.random.seed(10)\n",
    "print(np.random.rand(40))"
   ]
  },
  {
   "cell_type": "markdown",
   "id": "71e2482e-a407-422d-86a5-bdfa8e8215b4",
   "metadata": {},
   "source": [
    "#### 16. Write a NumPy program to extract all numbers from a given array which are less and greater than a specified number"
   ]
  },
  {
   "cell_type": "code",
   "execution_count": 194,
   "id": "41800286-f7fb-4a61-9949-3100f8e07e04",
   "metadata": {},
   "outputs": [
    {
     "name": "stdout",
     "output_type": "stream",
     "text": [
      "[7 6 9]\n",
      "[5 3 3 4 1 2]\n"
     ]
    }
   ],
   "source": [
    "nums = np.array([[5, 3, 7],\n",
    "              [3, 4, 6],\n",
    "              [1, 2, 9]])\n",
    "n = 5\n",
    "print(nums[nums > n])\n",
    "n = 6\n",
    "print(nums[nums < n])"
   ]
  },
  {
   "cell_type": "markdown",
   "id": "c6d8dff5-462d-47f0-8693-0793fe2b4cae",
   "metadata": {},
   "source": [
    "# Omar Khalid Mahmmoud {AI_30}"
   ]
  }
 ],
 "metadata": {
  "kernelspec": {
   "display_name": "Python 3 (ipykernel)",
   "language": "python",
   "name": "python3"
  },
  "language_info": {
   "codemirror_mode": {
    "name": "ipython",
    "version": 3
   },
   "file_extension": ".py",
   "mimetype": "text/x-python",
   "name": "python",
   "nbconvert_exporter": "python",
   "pygments_lexer": "ipython3",
   "version": "3.9.13"
  }
 },
 "nbformat": 4,
 "nbformat_minor": 5
}
